{
 "cells": [
  {
   "cell_type": "markdown",
   "metadata": {},
   "source": [
    "# File I/O Review"
   ]
  },
  {
   "cell_type": "markdown",
   "metadata": {},
   "source": [
    "This is just a shorthand way to dump some data to sample files from Jupyter"
   ]
  },
  {
   "cell_type": "code",
   "execution_count": 101,
   "metadata": {
    "collapsed": false,
    "deletable": true,
    "editable": true
   },
   "outputs": [
    {
     "name": "stdout",
     "output_type": "stream",
     "text": [
      "Overwriting test.csv\n"
     ]
    }
   ],
   "source": [
    "%%writefile test.csv\n",
    "\n",
    "John,D,WY\n",
    "Steven,A,CA\n",
    "Sara,B,TX"
   ]
  },
  {
   "cell_type": "code",
   "execution_count": 102,
   "metadata": {
    "collapsed": false,
    "deletable": true,
    "editable": true
   },
   "outputs": [
    {
     "name": "stdout",
     "output_type": "stream",
     "text": [
      "Overwriting headers.txt\n"
     ]
    }
   ],
   "source": [
    "%%writefile headers.txt\n",
    "Name,Grade, State"
   ]
  },
  {
   "cell_type": "markdown",
   "metadata": {},
   "source": [
    "Let's see what's in our files. By using the .read() method, we can read in the entire file at once as a string."
   ]
  },
  {
   "cell_type": "code",
   "execution_count": 103,
   "metadata": {
    "collapsed": false,
    "deletable": true,
    "editable": true
   },
   "outputs": [
    {
     "name": "stdout",
     "output_type": "stream",
     "text": [
      "\n",
      "John,D,WY\n",
      "Steven,A,CA\n",
      "Sara,B,TX\n",
      "<class 'str'>\n"
     ]
    }
   ],
   "source": [
    "with open(\"test.csv\") as fp:\n",
    "    data = fp.read()\n",
    "    print(data)\n",
    "    print(type(data))"
   ]
  },
  {
   "cell_type": "code",
   "execution_count": 104,
   "metadata": {
    "collapsed": false,
    "deletable": true,
    "editable": true
   },
   "outputs": [
    {
     "name": "stdout",
     "output_type": "stream",
     "text": [
      "Name,Grade, State\n",
      "<class 'str'>\n"
     ]
    }
   ],
   "source": [
    "with open(\"headers.txt\") as fp:\n",
    "    header = fp.read()\n",
    "    print(header)\n",
    "    print(type(header))"
   ]
  },
  {
   "cell_type": "markdown",
   "metadata": {},
   "source": [
    "If we want to write to a file, we can do nest our with-as statements so we can both read and write to a file. We'll want to write to a file both times, so let's put that one on the outside"
   ]
  },
  {
   "cell_type": "code",
   "execution_count": 72,
   "metadata": {
    "collapsed": false,
    "deletable": true,
    "editable": true
   },
   "outputs": [
    {
     "name": "stdout",
     "output_type": "stream",
     "text": [
      "John,D,WY\n",
      "Steven,A,CA\n",
      "Sara,B,TX\n",
      "\n"
     ]
    }
   ],
   "source": [
    "with open(\"newfile.csv\",'w') as outfile:\n",
    "    with open(\"test.csv\") as datacsvfile:\n",
    "        data = datacsvfile.read().strip() # remove any extra spaces or new lines in file contents\n",
    "        print(data,file=outfile)\n",
    "\n",
    "        # or: \n",
    "        # outfile.write(header)\n",
    "        # but, the .write() method will NOT add a newline to the end by default\n",
    "        # print() will add a new line to the end by default\n",
    "\n",
    "\n",
    "\n",
    "#this part will just open the newfil.csv and show us the contents\n",
    "with open(\"newfile.csv\") as fp:\n",
    "    data = fp.read()\n",
    "    print(data)"
   ]
  },
  {
   "cell_type": "markdown",
   "metadata": {},
   "source": [
    "Let's add the header line, and print it before the data:"
   ]
  },
  {
   "cell_type": "code",
   "execution_count": 73,
   "metadata": {
    "collapsed": false
   },
   "outputs": [
    {
     "name": "stdout",
     "output_type": "stream",
     "text": [
      "Name,Grade, State\n",
      "John,D,WY\n",
      "Steven,A,CA\n",
      "Sara,B,TX\n",
      "\n"
     ]
    }
   ],
   "source": [
    "with open(\"newfile.csv\",'w') as outfile:\n",
    "    with open(\"headers.txt\") as headerfile:\n",
    "        header = headerfile.read().strip() # remove any extra spaces or new lines in file contents\n",
    "        print(header,file=outfile)\n",
    "\n",
    "    with open(\"test.csv\") as datacsvfile:\n",
    "        data = datacsvfile.read().strip() # remove any extra spaces or new lines in file contents\n",
    "        print(data,file=outfile)\n",
    "\n",
    "        \n",
    "#this part will just open the newfil.csv and show us the contents\n",
    "with open(\"newfile.csv\") as fp:\n",
    "    data = fp.read()\n",
    "    print(data)"
   ]
  },
  {
   "cell_type": "markdown",
   "metadata": {},
   "source": [
    "Now let's take a look at appending to the beginning of each line, not just adding a line to the beginning of the file"
   ]
  },
  {
   "cell_type": "code",
   "execution_count": 74,
   "metadata": {
    "collapsed": false,
    "deletable": true,
    "editable": true
   },
   "outputs": [
    {
     "name": "stdout",
     "output_type": "stream",
     "text": [
      "Overwriting test.txt\n"
     ]
    }
   ],
   "source": [
    "%%writefile test.txt\n",
    "I really love OMIS30!\n",
    "This is a great class\n",
    "I learned about def and functions"
   ]
  },
  {
   "cell_type": "markdown",
   "metadata": {},
   "source": [
    "let's take a look at what's in the file, but line by line, not all at once"
   ]
  },
  {
   "cell_type": "code",
   "execution_count": 76,
   "metadata": {
    "collapsed": false,
    "deletable": true,
    "editable": true
   },
   "outputs": [
    {
     "name": "stdout",
     "output_type": "stream",
     "text": [
      "I really love OMIS30!\n",
      "This is a great class\n",
      "I learned about def and functions\n"
     ]
    }
   ],
   "source": [
    "with open(\"test.txt\") as fp:\n",
    "    for line in fp.readlines():\n",
    "        print(line.strip())"
   ]
  },
  {
   "cell_type": "markdown",
   "metadata": {},
   "source": [
    "We can wrap this in another with-open-as block, and write line by line to the file"
   ]
  },
  {
   "cell_type": "code",
   "execution_count": 85,
   "metadata": {
    "collapsed": false
   },
   "outputs": [],
   "source": [
    "with open('newfiletest.txt','w') as outfile:\n",
    "    with open(\"test.txt\") as fp:\n",
    "        for line in fp.readlines():\n",
    "            print(line.strip(),file=outfile)"
   ]
  },
  {
   "cell_type": "code",
   "execution_count": 86,
   "metadata": {
    "collapsed": false
   },
   "outputs": [
    {
     "name": "stdout",
     "output_type": "stream",
     "text": [
      "I really love OMIS30!\n",
      "This is a great class\n",
      "I learned about def and functions\n",
      "\n"
     ]
    }
   ],
   "source": [
    "#this part will just open the newfil.csv and show us the contents\n",
    "with open(\"newfiletest.txt\") as fp:\n",
    "    data = fp.read()\n",
    "    print(data)"
   ]
  },
  {
   "cell_type": "markdown",
   "metadata": {},
   "source": [
    "So, we basically just read in a file, line by line, and then wrote out each line to another file. Now, to add some text to the beginning of each file, we just add the string \"OMIS30: \" to the string, line."
   ]
  },
  {
   "cell_type": "code",
   "execution_count": 87,
   "metadata": {
    "collapsed": false
   },
   "outputs": [
    {
     "name": "stdout",
     "output_type": "stream",
     "text": [
      "OMIS30: I really love OMIS30!\n",
      "OMIS30: This is a great class\n",
      "OMIS30: I learned about def and functions\n",
      "\n"
     ]
    }
   ],
   "source": [
    "with open('newfiletest.txt','w') as outfile:\n",
    "    with open(\"test.txt\") as fp:\n",
    "        for line in fp.readlines():\n",
    "            print(\"OMIS30: \"+line.strip(),file=outfile)\n",
    "\n",
    "#this part will just open the newfil.csv and show us the contents\n",
    "with open(\"newfiletest.txt\") as fp:\n",
    "    data = fp.read()\n",
    "    print(data)"
   ]
  },
  {
   "cell_type": "markdown",
   "metadata": {},
   "source": [
    "But, maybe we don't want to nest out with-open-as statements. We could just store the data into a separate variable, and do the same thing"
   ]
  },
  {
   "cell_type": "code",
   "execution_count": 88,
   "metadata": {
    "collapsed": false,
    "deletable": true,
    "editable": true
   },
   "outputs": [
    {
     "name": "stdout",
     "output_type": "stream",
     "text": [
      "['I really love OMIS30!\\n', 'This is a great class\\n', 'I learned about def and functions']\n",
      "<class 'list'>\n"
     ]
    }
   ],
   "source": [
    "with open(\"test.txt\") as fp:\n",
    "    file_linebyline = fp.readlines()\n",
    "print(file_linebyline)\n",
    "print(type(file_linebyline))"
   ]
  },
  {
   "cell_type": "markdown",
   "metadata": {},
   "source": [
    "We can see that the .readlines() method gives us a list of strings, each one being one line of text. (Note that the newline character is part of each line.)"
   ]
  },
  {
   "cell_type": "code",
   "execution_count": 89,
   "metadata": {
    "collapsed": false,
    "deletable": true,
    "editable": true
   },
   "outputs": [
    {
     "name": "stdout",
     "output_type": "stream",
     "text": [
      "OMIS30: I really love OMIS30!\n",
      "OMIS30: This is a great class\n",
      "OMIS30: I learned about def and functions\n",
      "\n"
     ]
    }
   ],
   "source": [
    "with open(\"test.txt\") as fp:\n",
    "\n",
    "    filecontents_linebyline = fp.readlines()\n",
    "\n",
    "with open('newfiletest.txt','w') as outfile:\n",
    "    for line in filecontents_linebyline:\n",
    "        print(\"OMIS30: \"+line.strip(),file=outfile)\n",
    "\n",
    "#this part will just open the newfil.csv and show us the contents\n",
    "with open(\"newfiletest.txt\") as fp:\n",
    "    data = fp.read()\n",
    "    print(data)"
   ]
  },
  {
   "cell_type": "markdown",
   "metadata": {
    "collapsed": false,
    "deletable": true,
    "editable": true
   },
   "source": [
    "And, a reminder that the WITH-OPEN-AS block is the same as manually opening and closing the files, it just does it for us automatically (even if we get an error):"
   ]
  },
  {
   "cell_type": "code",
   "execution_count": null,
   "metadata": {
    "collapsed": false,
    "deletable": true,
    "editable": true
   },
   "outputs": [],
   "source": [
    "with open(\"newfiletest.txt\") as fp:\n",
    "    data = fp.read()\n",
    "    print(data)"
   ]
  },
  {
   "cell_type": "markdown",
   "metadata": {},
   "source": [
    "is the same as..."
   ]
  },
  {
   "cell_type": "code",
   "execution_count": 94,
   "metadata": {
    "collapsed": false,
    "deletable": true,
    "editable": true
   },
   "outputs": [
    {
     "name": "stdout",
     "output_type": "stream",
     "text": [
      "OMIS30: I really love OMIS30!\n",
      "OMIS30: This is a great class\n",
      "OMIS30: I learned about def and functions\n",
      "\n"
     ]
    }
   ],
   "source": [
    "fp = open(\"newfiletest.txt\")\n",
    "print(fp.read())\n",
    "fp.close()\n",
    "    "
   ]
  },
  {
   "cell_type": "code",
   "execution_count": null,
   "metadata": {
    "collapsed": true,
    "deletable": true,
    "editable": true
   },
   "outputs": [],
   "source": []
  }
 ],
 "metadata": {
  "kernelspec": {
   "display_name": "Python 3",
   "language": "python",
   "name": "python3"
  },
  "language_info": {
   "codemirror_mode": {
    "name": "ipython",
    "version": 3
   },
   "file_extension": ".py",
   "mimetype": "text/x-python",
   "name": "python",
   "nbconvert_exporter": "python",
   "pygments_lexer": "ipython3",
   "version": "3.6.1"
  }
 },
 "nbformat": 4,
 "nbformat_minor": 2
}
