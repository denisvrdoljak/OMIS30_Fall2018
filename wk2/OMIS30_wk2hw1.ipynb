{
 "cells": [
  {
   "cell_type": "markdown",
   "metadata": {},
   "source": [
    "# OMIS 30: Intro to Programming (Python)\n",
    "## Homework: Week 2, HW 1"
   ]
  },
  {
   "cell_type": "code",
   "execution_count": 1,
   "metadata": {},
   "outputs": [
    {
     "name": "stdout",
     "output_type": "stream",
     "text": [
      "\n",
      "Check back later this evening for this notebook. We're still getting it ready!\n",
      "\n"
     ]
    }
   ],
   "source": [
    "print(\"\"\"\n",
    "Check back later this evening for this notebook. We're still getting it ready!\n",
    "\"\"\")"
   ]
  },
  {
   "cell_type": "markdown",
   "metadata": {},
   "source": [
    "Csv files are pretty easy to import into Python. There are several libraries and modules that will handle this for you. But, let's take a look at how to make a csv parser from scratch.\n",
    "\n",
    "Csv (comma separated value) files use commas to separate values (columns) on each line. Every line then ends in a new line character, which looks like this in Python: \"\\n\"\n",
    "\n",
    "Here is a string that represents/simulates an uploaded raw csv file."
   ]
  },
  {
   "cell_type": "code",
   "execution_count": null,
   "metadata": {},
   "outputs": [],
   "source": []
  }
 ],
 "metadata": {
  "kernelspec": {
   "display_name": "Python 3",
   "language": "python",
   "name": "python3"
  },
  "language_info": {
   "codemirror_mode": {
    "name": "ipython",
    "version": 3
   },
   "file_extension": ".py",
   "mimetype": "text/x-python",
   "name": "python",
   "nbconvert_exporter": "python",
   "pygments_lexer": "ipython3",
   "version": "3.6.1"
  }
 },
 "nbformat": 4,
 "nbformat_minor": 2
}
