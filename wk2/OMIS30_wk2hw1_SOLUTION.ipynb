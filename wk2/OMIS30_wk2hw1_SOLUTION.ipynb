{
 "cells": [
  {
   "cell_type": "markdown",
   "metadata": {},
   "source": [
    "# OMIS 30: Intro to Programming (Python)\n",
    "## Homework: Week 2, HW 1"
   ]
  },
  {
   "cell_type": "markdown",
   "metadata": {},
   "source": [
    "Csv files are pretty easy to import into Python. There are several libraries and modules that will handle this for you. But, let's take a look at how to make a csv parser from scratch.\n",
    "\n",
    "Csv (comma separated value) files use commas to separate values (columns) on each line. Every line then ends in a new line character, which looks like this in Python: \"\\n\"\n",
    "\n",
    "Here is a string that represents/simulates an uploaded raw csv file."
   ]
  },
  {
   "cell_type": "code",
   "execution_count": 2,
   "metadata": {},
   "outputs": [],
   "source": [
    "# from data.gov\n",
    "# https://catalog.data.gov/dataset/demographic-statistics-by-zip-code-acfc9\n",
    "# https://data.cityofnewyork.us/api/views/kku6-nxdu/rows.csv?accessType=DOWNLOAD\n",
    "\n",
    "data = \"\"\"\n",
    "Zip Code,Total Population,Median Age,Total Males,Total Females,Total Households,Average Household Size\n",
    "90001,57110,26.6,28468,28642,12971,4.4\n",
    "90002,51223,25.5,24876,26347,11731,4.36\n",
    "90003,66266,26.3,32631,33635,15642,4.22\n",
    "\"\"\".strip()"
   ]
  },
  {
   "cell_type": "markdown",
   "metadata": {},
   "source": [
    "Using the 'data' variable, use a combination of the string.split() method/function, indexing, and splicing to create the following variables. (Look at the class notes notebook, in this folder. I added a couple of extra lines on how .split() work.)"
   ]
  },
  {
   "cell_type": "code",
   "execution_count": 6,
   "metadata": {},
   "outputs": [
    {
     "data": {
      "text/plain": [
       "['Zip Code',\n",
       " 'Total Population',\n",
       " 'Median Age',\n",
       " 'Total Males',\n",
       " 'Total Females',\n",
       " 'Total Households',\n",
       " 'Average Household Size']"
      ]
     },
     "execution_count": 6,
     "metadata": {},
     "output_type": "execute_result"
    }
   ],
   "source": [
    "# Create a list of column names\n",
    "# for example: ['col1_name','col2_name','col3_name']\n",
    "\n",
    "data.split('\\n')[0].split(',')"
   ]
  },
  {
   "cell_type": "code",
   "execution_count": 8,
   "metadata": {},
   "outputs": [
    {
     "data": {
      "text/plain": [
       "[['Zip Code',\n",
       "  'Total Population',\n",
       "  'Median Age',\n",
       "  'Total Males',\n",
       "  'Total Females',\n",
       "  'Total Households',\n",
       "  'Average Household Size'],\n",
       " ['90001', '57110', '26.6', '28468', '28642', '12971', '4.4'],\n",
       " ['90002', '51223', '25.5', '24876', '26347', '11731', '4.36'],\n",
       " ['90003', '66266', '26.3', '32631', '33635', '15642', '4.22']]"
      ]
     },
     "execution_count": 8,
     "metadata": {},
     "output_type": "execute_result"
    }
   ],
   "source": [
    "# Create a list of lists that represents this csv data\n",
    "# (think about how to separate the lines, which are separated by newline characters ('\\n'), \n",
    "# and then how to split up the individual cells on each line, which are separated by commans (',')\n",
    "\n",
    "data_array = list()\n",
    "data_array.append (data.split('\\n')[0].split(','))\n",
    "data_array.append (data.split('\\n')[1].split(','))\n",
    "data_array.append (data.split('\\n')[2].split(','))\n",
    "data_array.append (data.split('\\n')[3].split(','))\n",
    "data_array"
   ]
  },
  {
   "cell_type": "code",
   "execution_count": 10,
   "metadata": {},
   "outputs": [
    {
     "data": {
      "text/plain": [
       "[['90001', '57110', '26.6', '28468', '28642', '12971', '4.4'],\n",
       " ['90002', '51223', '25.5', '24876', '26347', '11731', '4.36'],\n",
       " ['90003', '66266', '26.3', '32631', '33635', '15642', '4.22']]"
      ]
     },
     "execution_count": 10,
     "metadata": {},
     "output_type": "execute_result"
    }
   ],
   "source": [
    "#Let's say we want the raw data, and don't want the column names in here. \n",
    "# (This will come up again when we introduce the numpy and pandas libraries)\n",
    "# Create a list of lists that contains just the data, skipping the column names\n",
    "\n",
    "data_array[1:]"
   ]
  },
  {
   "cell_type": "markdown",
   "metadata": {},
   "source": [
    "### HINTS\n",
    "\n",
    "* Look at the python notebook with the \"class notes\" for examples of the .split() method, and indexing, and splicing\n",
    "* We haven't done loops, so if you need to do something on each row, it's ok to index the rows one by one\n",
    "* Google the list .append() method for adding elements to a list. When I'm doing something complicated with lists, personally, I like to start with an empty list, then add elements to it one by one--esentially building the new list up piece by piece.\n",
    "* This is a \"cooked\" problem. Use the variables you create in the previous steps! (You don't have to, but it's a lot easier if you do.)"
   ]
  },
  {
   "cell_type": "markdown",
   "metadata": {},
   "source": [
    "### What to submit\n",
    "Submit this notebook in Camino"
   ]
  }
 ],
 "metadata": {
  "kernelspec": {
   "display_name": "Python 3",
   "language": "python",
   "name": "python3"
  },
  "language_info": {
   "codemirror_mode": {
    "name": "ipython",
    "version": 3
   },
   "file_extension": ".py",
   "mimetype": "text/x-python",
   "name": "python",
   "nbconvert_exporter": "python",
   "pygments_lexer": "ipython3",
   "version": "3.6.1"
  }
 },
 "nbformat": 4,
 "nbformat_minor": 2
}
