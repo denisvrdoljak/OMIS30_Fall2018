{
 "cells": [
  {
   "cell_type": "markdown",
   "metadata": {},
   "source": [
    "# Dictionaries and Functions"
   ]
  },
  {
   "cell_type": "markdown",
   "metadata": {},
   "source": [
    "## Dictionaries"
   ]
  },
  {
   "cell_type": "code",
   "execution_count": null,
   "metadata": {},
   "outputs": [],
   "source": []
  },
  {
   "cell_type": "code",
   "execution_count": 8,
   "metadata": {},
   "outputs": [],
   "source": [
    "mydict = {'cat':15,'dog':25,'elephant':2000,'giraffe':1000}"
   ]
  },
  {
   "cell_type": "code",
   "execution_count": 9,
   "metadata": {},
   "outputs": [
    {
     "name": "stdout",
     "output_type": "stream",
     "text": [
      "15\n",
      "<class 'int'>\n",
      "25\n",
      "<class 'int'>\n",
      "2000\n",
      "<class 'int'>\n",
      "1000\n",
      "<class 'int'>\n"
     ]
    }
   ],
   "source": [
    "for weight in mydict.values():\n",
    "    print(weight)\n",
    "    print(type(weight))"
   ]
  },
  {
   "cell_type": "code",
   "execution_count": 10,
   "metadata": {},
   "outputs": [
    {
     "name": "stdout",
     "output_type": "stream",
     "text": [
      "cat\n",
      "<class 'str'>\n",
      "dog\n",
      "<class 'str'>\n",
      "elephant\n",
      "<class 'str'>\n",
      "giraffe\n",
      "<class 'str'>\n"
     ]
    }
   ],
   "source": [
    "for animal in mydict.keys():\n",
    "    print(animal)\n",
    "    print(type(animal))"
   ]
  },
  {
   "cell_type": "code",
   "execution_count": 12,
   "metadata": {},
   "outputs": [
    {
     "name": "stdout",
     "output_type": "stream",
     "text": [
      "('cat', 15)\n",
      "<class 'tuple'>\n",
      "('dog', 25)\n",
      "<class 'tuple'>\n",
      "('elephant', 2000)\n",
      "<class 'tuple'>\n",
      "('giraffe', 1000)\n",
      "<class 'tuple'>\n"
     ]
    }
   ],
   "source": [
    "for item in mydict.items():\n",
    "    print(item)\n",
    "    print(type(item))"
   ]
  },
  {
   "cell_type": "code",
   "execution_count": 13,
   "metadata": {},
   "outputs": [
    {
     "name": "stdout",
     "output_type": "stream",
     "text": [
      "15\n",
      "<class 'int'>\n",
      "cat\n",
      "<class 'str'>\n",
      "\n",
      "25\n",
      "<class 'int'>\n",
      "dog\n",
      "<class 'str'>\n",
      "\n",
      "2000\n",
      "<class 'int'>\n",
      "elephant\n",
      "<class 'str'>\n",
      "\n",
      "1000\n",
      "<class 'int'>\n",
      "giraffe\n",
      "<class 'str'>\n",
      "\n"
     ]
    }
   ],
   "source": [
    "#We can also \"unpack\" the tuples in the for loop\n",
    "for animal,weight in mydict.items():\n",
    "\n",
    "        print(weight)\n",
    "        print(type(weight))\n",
    "        print(animal)\n",
    "        print(type(animal))\n",
    "        print()\n",
    "        #print a newline for spacing"
   ]
  },
  {
   "cell_type": "markdown",
   "metadata": {},
   "source": [
    "## Functions\n",
    "Let's look at how to get the value of a card. We'll assume a \"card\" is just a string where the first letter is the face balue, and the second letter is the suit."
   ]
  },
  {
   "cell_type": "code",
   "execution_count": 3,
   "metadata": {},
   "outputs": [],
   "source": [
    "def cardvalue(card):\n",
    "    \"\"\"\n",
    "    cardvalue() takes in a card--which shoul dbe a string with 2 characters.\n",
    "    The first letter is the face value. The second is the suit.\n",
    "    It returns the value of that card. T0 is an X.\n",
    "    \"\"\"\n",
    "    \n",
    "    cardface = card[0].upper()\n",
    "    if cardface in ['K','Q','J','X']:\n",
    "        return 10\n",
    "    else:\n",
    "        return int(cardface)"
   ]
  },
  {
   "cell_type": "code",
   "execution_count": 4,
   "metadata": {},
   "outputs": [
    {
     "name": "stdout",
     "output_type": "stream",
     "text": [
      "10\n"
     ]
    }
   ],
   "source": [
    "#King of Spaces\n",
    "print(cardvalue(\"KS\"))"
   ]
  },
  {
   "cell_type": "code",
   "execution_count": 5,
   "metadata": {},
   "outputs": [
    {
     "name": "stdout",
     "output_type": "stream",
     "text": [
      "10\n"
     ]
    }
   ],
   "source": [
    "# Queen of Hearts\n",
    "print(cardvalue(\"QH\"))"
   ]
  },
  {
   "cell_type": "code",
   "execution_count": 6,
   "metadata": {},
   "outputs": [
    {
     "name": "stdout",
     "output_type": "stream",
     "text": [
      "9\n"
     ]
    }
   ],
   "source": [
    "# 9 of Hearts\n",
    "print(cardvalue(\"9H\"))"
   ]
  },
  {
   "cell_type": "markdown",
   "metadata": {},
   "source": [
    "### Getting help on functions\n",
    "And why we bother to write docstrings to describe what they do."
   ]
  },
  {
   "cell_type": "code",
   "execution_count": 15,
   "metadata": {},
   "outputs": [
    {
     "name": "stdout",
     "output_type": "stream",
     "text": [
      "Help on function cardvalue in module __main__:\n",
      "\n",
      "cardvalue(card)\n",
      "    cardvalue() takes in a card--which shoul dbe a string with 2 characters.\n",
      "    The first letter is the face value. The second is the suit.\n",
      "    It returns the value of that card. T0 is an X.\n",
      "\n"
     ]
    }
   ],
   "source": [
    "# We can pull up the \"docstring\" text from a funtion with the built in help() function\n",
    "help(cardvalue)"
   ]
  },
  {
   "cell_type": "code",
   "execution_count": 18,
   "metadata": {},
   "outputs": [
    {
     "name": "stdout",
     "output_type": "stream",
     "text": [
      "Help on built-in function print in module builtins:\n",
      "\n",
      "print(...)\n",
      "    print(value, ..., sep=' ', end='\\n', file=sys.stdout, flush=False)\n",
      "    \n",
      "    Prints the values to a stream, or to sys.stdout by default.\n",
      "    Optional keyword arguments:\n",
      "    file:  a file-like object (stream); defaults to the current sys.stdout.\n",
      "    sep:   string inserted between values, default a space.\n",
      "    end:   string appended after the last value, default a newline.\n",
      "    flush: whether to forcibly flush the stream.\n",
      "\n"
     ]
    }
   ],
   "source": [
    "# let's try it with something else we know\n",
    "help(print)\n",
    "#note that we are referencing the function by its name, but not calling it.\n",
    "#the difference is whether we put the parentheses after the function. \n",
    "# 'print()'' calls the function. 'print' references the function."
   ]
  }
 ],
 "metadata": {
  "kernelspec": {
   "display_name": "Python 3",
   "language": "python",
   "name": "python3"
  },
  "language_info": {
   "codemirror_mode": {
    "name": "ipython",
    "version": 3
   },
   "file_extension": ".py",
   "mimetype": "text/x-python",
   "name": "python",
   "nbconvert_exporter": "python",
   "pygments_lexer": "ipython3",
   "version": "3.6.1"
  }
 },
 "nbformat": 4,
 "nbformat_minor": 2
}
