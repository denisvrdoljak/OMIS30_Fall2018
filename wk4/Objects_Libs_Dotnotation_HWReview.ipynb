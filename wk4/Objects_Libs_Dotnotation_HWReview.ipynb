{
 "cells": [
  {
   "cell_type": "markdown",
   "metadata": {},
   "source": [
    "# Objects, Dot Notation, Libraries, and HW Review"
   ]
  },
  {
   "cell_type": "markdown",
   "metadata": {},
   "source": [
    "## Using Libraries"
   ]
  },
  {
   "cell_type": "markdown",
   "metadata": {},
   "source": [
    "To use the libraries (deckofcards, or ducksoccer), we need to import them. We can import libraries that are part of the Python standard library. We can also import libraries that are in the same folder as our as our present working space.\n",
    "\n",
    "To import a local python script, just use:\n",
    "\n",
    "    import <name without the .py>\n"
   ]
  },
  {
   "cell_type": "code",
   "execution_count": 1,
   "metadata": {},
   "outputs": [],
   "source": [
    "import deckofcards\n",
    "import ducksoccer\n"
   ]
  },
  {
   "cell_type": "markdown",
   "metadata": {},
   "source": [
    "### Dot Notation with Libraries"
   ]
  },
  {
   "cell_type": "markdown",
   "metadata": {},
   "source": [
    "We use dot notation to reference object definitions inside of the library. For example, there is a definition for the object Deck() inside of deckofcards:"
   ]
  },
  {
   "cell_type": "code",
   "execution_count": 2,
   "metadata": {},
   "outputs": [
    {
     "data": {
      "text/plain": [
       "<deckofcards.Deck at 0x1064ad668>"
      ]
     },
     "execution_count": 2,
     "metadata": {},
     "output_type": "execute_result"
    }
   ],
   "source": [
    "mydeck = deckofcards.Deck()\n",
    "#this creates an instance of Deck()\n",
    "mydeck"
   ]
  },
  {
   "cell_type": "markdown",
   "metadata": {},
   "source": [
    "To access methods of our newly created Deck() object--called mydeck--we use dot notation. This is just like we accessed the string.split() and list.append() methods:"
   ]
  },
  {
   "cell_type": "code",
   "execution_count": 3,
   "metadata": {},
   "outputs": [],
   "source": [
    "mydeck.loadnewdeck()\n",
    "mydeck.shuffledeck()"
   ]
  },
  {
   "cell_type": "markdown",
   "metadata": {},
   "source": [
    "### Dot Notation with Objects"
   ]
  },
  {
   "cell_type": "markdown",
   "metadata": {},
   "source": [
    "To access an attribute of the object, we can use dot notation as well. Remember, methods, like functions, always end with parantheses. Attributes are just referenced directly:"
   ]
  },
  {
   "cell_type": "code",
   "execution_count": 4,
   "metadata": {},
   "outputs": [
    {
     "data": {
      "text/plain": [
       "[6♣,\n",
       " J♣,\n",
       " 4♣,\n",
       " A♦,\n",
       " 9♦,\n",
       " 7♥,\n",
       " 10♦,\n",
       " 2♦,\n",
       " 5♥,\n",
       " 6♠,\n",
       " 10♠,\n",
       " 2♣,\n",
       " K♦,\n",
       " 4♦,\n",
       " Q♣,\n",
       " 2♠,\n",
       " 9♥,\n",
       " Q♥,\n",
       " A♥,\n",
       " 8♦,\n",
       " J♥,\n",
       " 3♥,\n",
       " A♣,\n",
       " 4♥,\n",
       " 10♥,\n",
       " Q♠,\n",
       " 3♣,\n",
       " 6♥,\n",
       " K♥,\n",
       " 8♣,\n",
       " 7♠,\n",
       " 7♣,\n",
       " 5♦,\n",
       " 3♠,\n",
       " 7♦,\n",
       " J♠,\n",
       " 10♣,\n",
       " 9♠,\n",
       " K♣,\n",
       " J♦,\n",
       " 3♦,\n",
       " 5♠,\n",
       " 2♥,\n",
       " 9♣,\n",
       " 5♣,\n",
       " 4♠,\n",
       " 6♦,\n",
       " A♠,\n",
       " K♠,\n",
       " Q♦,\n",
       " 8♠,\n",
       " 8♥]"
      ]
     },
     "execution_count": 4,
     "metadata": {},
     "output_type": "execute_result"
    }
   ],
   "source": [
    "mydeck.deck"
   ]
  },
  {
   "cell_type": "markdown",
   "metadata": {},
   "source": [
    "### Object Attributes"
   ]
  },
  {
   "cell_type": "markdown",
   "metadata": {},
   "source": [
    "The .deck attribute is a list that holds all the cards that are in the deck. This means we can use indexing to reference one of the objects. Let's take the 3rd one in the list. And, let's take a look at what these card objects look like:"
   ]
  },
  {
   "cell_type": "code",
   "execution_count": 5,
   "metadata": {},
   "outputs": [
    {
     "data": {
      "text/plain": [
       "4♣"
      ]
     },
     "execution_count": 5,
     "metadata": {},
     "output_type": "execute_result"
    }
   ],
   "source": [
    "mydeck.deck[2]"
   ]
  },
  {
   "cell_type": "code",
   "execution_count": 7,
   "metadata": {},
   "outputs": [
    {
     "data": {
      "text/plain": [
       "'Club'"
      ]
     },
     "execution_count": 7,
     "metadata": {},
     "output_type": "execute_result"
    }
   ],
   "source": [
    "mydeck.deck[2].suit"
   ]
  },
  {
   "cell_type": "code",
   "execution_count": 8,
   "metadata": {},
   "outputs": [
    {
     "data": {
      "text/plain": [
       "'6'"
      ]
     },
     "execution_count": 8,
     "metadata": {},
     "output_type": "execute_result"
    }
   ],
   "source": [
    "mydeck.deck[0].value"
   ]
  },
  {
   "cell_type": "code",
   "execution_count": 9,
   "metadata": {},
   "outputs": [
    {
     "data": {
      "text/plain": [
       "deckofcards.Card"
      ]
     },
     "execution_count": 9,
     "metadata": {},
     "output_type": "execute_result"
    }
   ],
   "source": [
    "type(mydeck.deck[0])"
   ]
  },
  {
   "cell_type": "markdown",
   "metadata": {},
   "source": [
    ".suit and .value are both attributs. How can we tell? There are no parentheses after, like we say in mydeck.shuffledeck()\n",
    "\n",
    "Let's take a look at the Duck() object next. We can access this using dot notation. It's part of the ducksoccer library:"
   ]
  },
  {
   "cell_type": "code",
   "execution_count": 10,
   "metadata": {},
   "outputs": [
    {
     "data": {
      "text/plain": [
       "<ducksoccer.Duck at 0x1064c50b8>"
      ]
     },
     "execution_count": 10,
     "metadata": {},
     "output_type": "execute_result"
    }
   ],
   "source": [
    "myduck = ducksoccer.Duck()\n",
    "myduck"
   ]
  },
  {
   "cell_type": "markdown",
   "metadata": {},
   "source": [
    "### Object Methods"
   ]
  },
  {
   "cell_type": "markdown",
   "metadata": {},
   "source": [
    "One of the things we can do with a Duck object is make it quack. This is a method, so to call it, we use dot notation with parentheses. How do we know this is a method, and not an attribute? Because it has parantheses at the end of it, like a function."
   ]
  },
  {
   "cell_type": "code",
   "execution_count": 11,
   "metadata": {},
   "outputs": [
    {
     "name": "stdout",
     "output_type": "stream",
     "text": [
      "[unnamed] the Duck says, 'Quack!'\n"
     ]
    }
   ],
   "source": [
    "myduck.quack()"
   ]
  },
  {
   "cell_type": "markdown",
   "metadata": {},
   "source": [
    "### Mutable Objects: an Example"
   ]
  },
  {
   "cell_type": "markdown",
   "metadata": {},
   "source": [
    "The .quack() method just does \"something,\" but doesn't modify the Duck object. There is another method in the Duck object that changes the name. The current/default name is:"
   ]
  },
  {
   "cell_type": "code",
   "execution_count": 13,
   "metadata": {},
   "outputs": [
    {
     "data": {
      "text/plain": [
       "'[unnamed]'"
      ]
     },
     "execution_count": 13,
     "metadata": {},
     "output_type": "execute_result"
    }
   ],
   "source": [
    "myduck.name"
   ]
  },
  {
   "cell_type": "markdown",
   "metadata": {},
   "source": [
    "And, if we use this to assign a name, we actually modify the object (specifically, we change the myduck.name attribute):"
   ]
  },
  {
   "cell_type": "code",
   "execution_count": 14,
   "metadata": {},
   "outputs": [],
   "source": [
    "myduck.nametheduck(\"Alfred\")"
   ]
  },
  {
   "cell_type": "code",
   "execution_count": 15,
   "metadata": {},
   "outputs": [
    {
     "data": {
      "text/plain": [
       "'Alfred'"
      ]
     },
     "execution_count": 15,
     "metadata": {},
     "output_type": "execute_result"
    }
   ],
   "source": [
    "myduck.name"
   ]
  },
  {
   "cell_type": "markdown",
   "metadata": {},
   "source": [
    "This means that the Duck object is *mutable*, like a list. A mutable object can be changed/modified. Immutable objects (like strings) cannot be modified, and have to be destroyed and overwritten to change their values. The SoccerBall object, for example here, has no method that modifies it. In fact, all you can do with the SoccerBall is call the .kick() method. Because there is not way to modify the object, this object is *immutable*."
   ]
  },
  {
   "cell_type": "markdown",
   "metadata": {},
   "source": [
    "### Immutable Objects: an Example"
   ]
  },
  {
   "cell_type": "code",
   "execution_count": 16,
   "metadata": {},
   "outputs": [
    {
     "data": {
      "text/plain": [
       "<ducksoccer.SoccerBall at 0x1064c5208>"
      ]
     },
     "execution_count": 16,
     "metadata": {},
     "output_type": "execute_result"
    }
   ],
   "source": [
    "mysoccerball = ducksoccer.SoccerBall()\n",
    "mysoccerball"
   ]
  },
  {
   "cell_type": "code",
   "execution_count": 17,
   "metadata": {},
   "outputs": [
    {
     "name": "stdout",
     "output_type": "stream",
     "text": [
      "You kicked the ball...\n",
      "You missed the goal.\n"
     ]
    }
   ],
   "source": [
    "mysoccerball.kick()"
   ]
  },
  {
   "cell_type": "markdown",
   "metadata": {},
   "source": [
    "Let's take a look at what the .kick() method does:"
   ]
  },
  {
   "cell_type": "code",
   "execution_count": 18,
   "metadata": {},
   "outputs": [
    {
     "name": "stdout",
     "output_type": "stream",
     "text": [
      "You kicked the ball...\n",
      "You missed the goal.\n",
      "You kicked the ball...\n",
      "You missed the goal.\n",
      "You kicked the ball...\n",
      "You missed the goal.\n",
      "You kicked the ball...\n",
      "You missed the goal.\n",
      "You kicked the ball...\n",
      "Goal!\n",
      "You kicked the ball...\n",
      "You missed the goal.\n"
     ]
    }
   ],
   "source": [
    "mysoccerball.kick()\n",
    "mysoccerball.kick()\n",
    "mysoccerball.kick()\n",
    "mysoccerball.kick()\n",
    "mysoccerball.kick()\n",
    "mysoccerball.kick()"
   ]
  },
  {
   "cell_type": "markdown",
   "metadata": {},
   "source": [
    "This method just \"does something,\" but doesn't modify the object. Like a string, there is no method that modifies the object itself. Let's take a look at a previous homework problem to bring this full circle:"
   ]
  },
  {
   "cell_type": "markdown",
   "metadata": {},
   "source": [
    "# Homework Review"
   ]
  },
  {
   "cell_type": "code",
   "execution_count": 19,
   "metadata": {},
   "outputs": [],
   "source": [
    "data = \"\"\"Zip Code,Total Population,Median Age,Total Males,Total Females,Total Households,Average Household Size\\n90001,57110,26.6,28468,28642,12971,4.4\\n90002,51223,25.5,24876,26347,11731,4.36\\n90003,66266,26.3,32631,33635,15642,4.22\"\"\".strip()"
   ]
  },
  {
   "cell_type": "markdown",
   "metadata": {},
   "source": [
    "The 'data' string holds data that represents a csv. We can see that there are line breaks ('\\n') separating th rows, with commas separating the values within each row"
   ]
  },
  {
   "cell_type": "code",
   "execution_count": 20,
   "metadata": {},
   "outputs": [
    {
     "data": {
      "text/plain": [
       "'Zip Code,Total Population,Median Age,Total Males,Total Females,Total Households,Average Household Size\\n90001,57110,26.6,28468,28642,12971,4.4\\n90002,51223,25.5,24876,26347,11731,4.36\\n90003,66266,26.3,32631,33635,15642,4.22'"
      ]
     },
     "execution_count": 20,
     "metadata": {},
     "output_type": "execute_result"
    }
   ],
   "source": [
    "data"
   ]
  },
  {
   "cell_type": "markdown",
   "metadata": {},
   "source": [
    "If we want to separate (or, 'split up') the rows into individual strings, we can use the .split() method. "
   ]
  },
  {
   "cell_type": "code",
   "execution_count": 21,
   "metadata": {},
   "outputs": [
    {
     "data": {
      "text/plain": [
       "['Zip Code,Total Population,Median Age,Total Males,Total Females,Total Households,Average Household Size',\n",
       " '90001,57110,26.6,28468,28642,12971,4.4',\n",
       " '90002,51223,25.5,24876,26347,11731,4.36',\n",
       " '90003,66266,26.3,32631,33635,15642,4.22']"
      ]
     },
     "execution_count": 21,
     "metadata": {},
     "output_type": "execute_result"
    }
   ],
   "source": [
    "data.split('\\n')"
   ]
  },
  {
   "cell_type": "markdown",
   "metadata": {},
   "source": [
    "This gives us a list of new, smaller strings. But, the original 'data' variable is a strings. Strings are immutable. That means the the .split() method isn't going to modify the string. It will return the list of strings we see above, but we need to store that in a new variable if we want to access it later:"
   ]
  },
  {
   "cell_type": "code",
   "execution_count": 22,
   "metadata": {},
   "outputs": [],
   "source": [
    "rows = data.split('\\n')"
   ]
  },
  {
   "cell_type": "markdown",
   "metadata": {},
   "source": [
    "The 'rows' variable no holds what was returned when we called the .split() method. Let's take a look:"
   ]
  },
  {
   "cell_type": "code",
   "execution_count": 23,
   "metadata": {},
   "outputs": [
    {
     "data": {
      "text/plain": [
       "['Zip Code,Total Population,Median Age,Total Males,Total Females,Total Households,Average Household Size',\n",
       " '90001,57110,26.6,28468,28642,12971,4.4',\n",
       " '90002,51223,25.5,24876,26347,11731,4.36',\n",
       " '90003,66266,26.3,32631,33635,15642,4.22']"
      ]
     },
     "execution_count": 23,
     "metadata": {},
     "output_type": "execute_result"
    }
   ],
   "source": [
    "rows"
   ]
  },
  {
   "cell_type": "code",
   "execution_count": 24,
   "metadata": {},
   "outputs": [
    {
     "data": {
      "text/plain": [
       "list"
      ]
     },
     "execution_count": 24,
     "metadata": {},
     "output_type": "execute_result"
    }
   ],
   "source": [
    "type(rows)"
   ]
  },
  {
   "cell_type": "code",
   "execution_count": 25,
   "metadata": {},
   "outputs": [
    {
     "data": {
      "text/plain": [
       "4"
      ]
     },
     "execution_count": 25,
     "metadata": {},
     "output_type": "execute_result"
    }
   ],
   "source": [
    "len(rows)"
   ]
  },
  {
   "cell_type": "markdown",
   "metadata": {},
   "source": [
    "If we want to access the individual objects in our newly created 'rows' list, we can use indexing:"
   ]
  },
  {
   "cell_type": "code",
   "execution_count": 26,
   "metadata": {},
   "outputs": [
    {
     "data": {
      "text/plain": [
       "'Zip Code,Total Population,Median Age,Total Males,Total Females,Total Households,Average Household Size'"
      ]
     },
     "execution_count": 26,
     "metadata": {},
     "output_type": "execute_result"
    }
   ],
   "source": [
    "rows[0]"
   ]
  },
  {
   "cell_type": "code",
   "execution_count": 27,
   "metadata": {},
   "outputs": [
    {
     "data": {
      "text/plain": [
       "str"
      ]
     },
     "execution_count": 27,
     "metadata": {},
     "output_type": "execute_result"
    }
   ],
   "source": [
    "type(rows[0])"
   ]
  },
  {
   "cell_type": "markdown",
   "metadata": {},
   "source": [
    "And, once we access that first string object at [0], we can access its methods and attributes. If we want to split it up into each individual values (which are separated by commas), we can call the .split() method again:"
   ]
  },
  {
   "cell_type": "code",
   "execution_count": 28,
   "metadata": {},
   "outputs": [
    {
     "data": {
      "text/plain": [
       "['Zip Code',\n",
       " 'Total Population',\n",
       " 'Median Age',\n",
       " 'Total Males',\n",
       " 'Total Females',\n",
       " 'Total Households',\n",
       " 'Average Household Size']"
      ]
     },
     "execution_count": 28,
     "metadata": {},
     "output_type": "execute_result"
    }
   ],
   "source": [
    "rows[0].split(',')"
   ]
  },
  {
   "cell_type": "markdown",
   "metadata": {},
   "source": [
    "We can do the same for all the rows. Let's save them to a new variable so we can access them later. We'll create an empty list, called 'data_array', and append to it:"
   ]
  },
  {
   "cell_type": "code",
   "execution_count": 29,
   "metadata": {},
   "outputs": [
    {
     "data": {
      "text/plain": [
       "[['Zip Code',\n",
       "  'Total Population',\n",
       "  'Median Age',\n",
       "  'Total Males',\n",
       "  'Total Females',\n",
       "  'Total Households',\n",
       "  'Average Household Size'],\n",
       " ['90001', '57110', '26.6', '28468', '28642', '12971', '4.4'],\n",
       " ['90002', '51223', '25.5', '24876', '26347', '11731', '4.36'],\n",
       " ['90003', '66266', '26.3', '32631', '33635', '15642', '4.22']]"
      ]
     },
     "execution_count": 29,
     "metadata": {},
     "output_type": "execute_result"
    }
   ],
   "source": [
    "data_array = []\n",
    "data_array.append(rows[0].split(','))\n",
    "data_array.append(rows[1].split(','))\n",
    "data_array.append(rows[2].split(','))\n",
    "data_array.append(rows[3].split(','))\n",
    "data_array"
   ]
  },
  {
   "cell_type": "markdown",
   "metadata": {},
   "source": [
    "This gives us a list of lists (of strings), which represents our original CSV data."
   ]
  },
  {
   "cell_type": "markdown",
   "metadata": {},
   "source": [
    "Of course, we could have just created the list outright, instead of by appending to an empty list. Both give us the same result:"
   ]
  },
  {
   "cell_type": "code",
   "execution_count": 32,
   "metadata": {},
   "outputs": [
    {
     "data": {
      "text/plain": [
       "[['Zip Code',\n",
       "  'Total Population',\n",
       "  'Median Age',\n",
       "  'Total Males',\n",
       "  'Total Females',\n",
       "  'Total Households',\n",
       "  'Average Household Size'],\n",
       " ['90001', '57110', '26.6', '28468', '28642', '12971', '4.4'],\n",
       " ['90002', '51223', '25.5', '24876', '26347', '11731', '4.36'],\n",
       " ['90003', '66266', '26.3', '32631', '33635', '15642', '4.22']]"
      ]
     },
     "execution_count": 32,
     "metadata": {},
     "output_type": "execute_result"
    }
   ],
   "source": [
    "data_array = [\n",
    "rows[0].split(','),\n",
    "    rows[1].split(','),\n",
    "    rows[2].split(','),\n",
    "    rows[3].split(',')\n",
    "]\n",
    "data_array"
   ]
  },
  {
   "cell_type": "markdown",
   "metadata": {},
   "source": [
    "To access just the column names from the 'data_array' list, we can use indexing. Now that we have a list of lists of strings, we just want the list of strings that colds teh column headers. This is the first element in the list of list:"
   ]
  },
  {
   "cell_type": "code",
   "execution_count": 31,
   "metadata": {},
   "outputs": [
    {
     "data": {
      "text/plain": [
       "['Zip Code',\n",
       " 'Total Population',\n",
       " 'Median Age',\n",
       " 'Total Males',\n",
       " 'Total Females',\n",
       " 'Total Households',\n",
       " 'Average Household Size']"
      ]
     },
     "execution_count": 31,
     "metadata": {},
     "output_type": "execute_result"
    }
   ],
   "source": [
    "data_array[0]"
   ]
  },
  {
   "cell_type": "markdown",
   "metadata": {},
   "source": [
    "And, if we want just the data (no headers), we just can use splicing, and just skip the first item in the list (which is the column names):"
   ]
  },
  {
   "cell_type": "code",
   "execution_count": 33,
   "metadata": {},
   "outputs": [
    {
     "data": {
      "text/plain": [
       "[['90001', '57110', '26.6', '28468', '28642', '12971', '4.4'],\n",
       " ['90002', '51223', '25.5', '24876', '26347', '11731', '4.36'],\n",
       " ['90003', '66266', '26.3', '32631', '33635', '15642', '4.22']]"
      ]
     },
     "execution_count": 33,
     "metadata": {},
     "output_type": "execute_result"
    }
   ],
   "source": [
    "data_array[1:]"
   ]
  },
  {
   "cell_type": "markdown",
   "metadata": {},
   "source": [
    "## For loop solution"
   ]
  },
  {
   "cell_type": "markdown",
   "metadata": {},
   "source": [
    "Now that we have learned about loops, we can create a much more dynamic solution than above. In the solution above, we used indexing to reference each of the 4 rows, one at a time. But, what if we have more than 4 rows? Or, we have an arbitrary number of rows? We can use a FOR loop to iterate through each row, and create our list of lists that way:"
   ]
  },
  {
   "cell_type": "code",
   "execution_count": 38,
   "metadata": {},
   "outputs": [
    {
     "data": {
      "text/plain": [
       "[['Zip Code',\n",
       "  'Total Population',\n",
       "  'Median Age',\n",
       "  'Total Males',\n",
       "  'Total Females',\n",
       "  'Total Households',\n",
       "  'Average Household Size'],\n",
       " ['90001', '57110', '26.6', '28468', '28642', '12971', '4.4'],\n",
       " ['90002', '51223', '25.5', '24876', '26347', '11731', '4.36'],\n",
       " ['90003', '66266', '26.3', '32631', '33635', '15642', '4.22']]"
      ]
     },
     "execution_count": 38,
     "metadata": {},
     "output_type": "execute_result"
    }
   ],
   "source": [
    "\n",
    "myanswer = []\n",
    "for row_string in data.split('\\n'):\n",
    "    myanswer.append(row_string.split(','))\n",
    "myanswer"
   ]
  },
  {
   "cell_type": "code",
   "execution_count": 39,
   "metadata": {},
   "outputs": [
    {
     "data": {
      "text/plain": [
       "['Zip Code',\n",
       " 'Total Population',\n",
       " 'Median Age',\n",
       " 'Total Males',\n",
       " 'Total Females',\n",
       " 'Total Households',\n",
       " 'Average Household Size']"
      ]
     },
     "execution_count": 39,
     "metadata": {},
     "output_type": "execute_result"
    }
   ],
   "source": [
    "myanswer[0]"
   ]
  },
  {
   "cell_type": "code",
   "execution_count": 40,
   "metadata": {},
   "outputs": [
    {
     "data": {
      "text/plain": [
       "[['90001', '57110', '26.6', '28468', '28642', '12971', '4.4'],\n",
       " ['90002', '51223', '25.5', '24876', '26347', '11731', '4.36'],\n",
       " ['90003', '66266', '26.3', '32631', '33635', '15642', '4.22']]"
      ]
     },
     "execution_count": 40,
     "metadata": {},
     "output_type": "execute_result"
    }
   ],
   "source": [
    "myanswer[1:]"
   ]
  },
  {
   "cell_type": "code",
   "execution_count": null,
   "metadata": {},
   "outputs": [],
   "source": []
  }
 ],
 "metadata": {
  "kernelspec": {
   "display_name": "Python 3",
   "language": "python",
   "name": "python3"
  },
  "language_info": {
   "codemirror_mode": {
    "name": "ipython",
    "version": 3
   },
   "file_extension": ".py",
   "mimetype": "text/x-python",
   "name": "python",
   "nbconvert_exporter": "python",
   "pygments_lexer": "ipython3",
   "version": "3.6.1"
  }
 },
 "nbformat": 4,
 "nbformat_minor": 2
}
