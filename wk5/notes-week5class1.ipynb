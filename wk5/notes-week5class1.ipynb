{
 "cells": [
  {
   "cell_type": "markdown",
   "metadata": {},
   "source": [
    "# Tips and Tricks\n",
    "\n",
    "## random.shuffle()"
   ]
  },
  {
   "cell_type": "code",
   "execution_count": 1,
   "metadata": {},
   "outputs": [],
   "source": [
    "import random"
   ]
  },
  {
   "cell_type": "code",
   "execution_count": 10,
   "metadata": {},
   "outputs": [],
   "source": [
    "mylist = [1,2,3]"
   ]
  },
  {
   "cell_type": "code",
   "execution_count": 11,
   "metadata": {},
   "outputs": [],
   "source": [
    "random.shuffle(mylist)\n",
    "# use \"dot notation\" to to access shuffle() from within the random library\n",
    "# Details on shuffle() here:\n",
    "# https://docs.python.org/3/library/random.html"
   ]
  },
  {
   "cell_type": "code",
   "execution_count": 12,
   "metadata": {},
   "outputs": [
    {
     "data": {
      "text/plain": [
       "[1, 3, 2]"
      ]
     },
     "execution_count": 12,
     "metadata": {},
     "output_type": "execute_result"
    }
   ],
   "source": [
    "mylist"
   ]
  },
  {
   "cell_type": "markdown",
   "metadata": {},
   "source": [
    "## enumerate()\n",
    "enumerate() returns a index,element pair for every element in mylist. It's useful for anything where you will want to keep track of the index of the element you're looking at. For instance, if you're looking for the highest value in a list, with this you can easily keep track of where the highest value is located."
   ]
  },
  {
   "cell_type": "code",
   "execution_count": 24,
   "metadata": {},
   "outputs": [
    {
     "name": "stdout",
     "output_type": "stream",
     "text": [
      "0- 1\n",
      "1- 2\n"
     ]
    }
   ],
   "source": [
    "for i,mynumber in enumerate(mylist):\n",
    "    print(i,end=\"- \")\n",
    "    print(mynumber)"
   ]
  },
  {
   "cell_type": "code",
   "execution_count": 14,
   "metadata": {},
   "outputs": [
    {
     "data": {
      "text/plain": [
       "[1, 2]"
      ]
     },
     "execution_count": 14,
     "metadata": {},
     "output_type": "execute_result"
    }
   ],
   "source": [
    "mylist"
   ]
  },
  {
   "cell_type": "markdown",
   "metadata": {},
   "source": [
    "## Practice with Functions"
   ]
  },
  {
   "cell_type": "code",
   "execution_count": 31,
   "metadata": {},
   "outputs": [
    {
     "data": {
      "text/plain": [
       "15"
      ]
     },
     "execution_count": 31,
     "metadata": {},
     "output_type": "execute_result"
    }
   ],
   "source": [
    "def sumfrom_n_tozero(n):\n",
    "    mysum = 0\n",
    "    for i in range(n+1):\n",
    "        mysum += i\n",
    "    return mysum\n",
    "\n",
    "sumfrom_n_tozero(5)\n",
    "\n",
    "# This function will sum up all numbers from 0 to n, \n",
    "# where n is taken in as an argument to the function"
   ]
  },
  {
   "cell_type": "code",
   "execution_count": 30,
   "metadata": {},
   "outputs": [
    {
     "data": {
      "text/plain": [
       "15"
      ]
     },
     "execution_count": 30,
     "metadata": {},
     "output_type": "execute_result"
    }
   ],
   "source": [
    "def recursive_sumfrom_n_tozero(n):\n",
    "    if n == 0:\n",
    "        return 0\n",
    "    mysum = n + recursive_addtozero(n-1)\n",
    "    return mysum\n",
    "\n",
    "recursive_sumfrom_n_tozero(5)\n",
    "\n",
    "# This is the recursive for of the above function"
   ]
  },
  {
   "cell_type": "markdown",
   "metadata": {},
   "source": [
    "### You do NOT need to use recursive functions in this class\n",
    "In fact, it is my personal recommendation to avoid recursive functions in most cases. There are times where they are a good choice to optimize code, but they are difficult to use, and in most cases are not necessary. BUT, you should know what they are, because you likely will encounter them when google-ing certain answers in Python."
   ]
  },
  {
   "cell_type": "markdown",
   "metadata": {},
   "source": [
    "## Creating a function to shuffle the letters in a string\n",
    "remember, the str.split() method splits a string based on designated character (like a newline charact, or a comma). That doesn't help us iterate through the individual letters/characters. But, since a string is iterable, we can use a FOR loop to iterate through the individual characters."
   ]
  },
  {
   "cell_type": "code",
   "execution_count": 48,
   "metadata": {},
   "outputs": [
    {
     "data": {
      "text/plain": [
       "'atc'"
      ]
     },
     "execution_count": 48,
     "metadata": {},
     "output_type": "execute_result"
    }
   ],
   "source": [
    "import random\n",
    "\n",
    "def shufflethisword(word):\n",
    "    listofletters = []\n",
    "    for letter in word:\n",
    "        listofletters.append(letter)\n",
    "    # we could also do this with:\n",
    "    # list of letters = list(letters)\n",
    "    random.shuffle(listofletters)\n",
    "    return \"\".join(listofletters)\n",
    "# str.join() takes a list (or other iterable) as an argument, \n",
    "# and \"joins\" the elements, using the original string as the separator, into a new longer list\n",
    "# for example:\n",
    "# \" \".join(mylist) will turn a list into a string, with the elements separated by spaces\n",
    "# \",\".join(mylist) will turn a list into a string, with the elements separated by commas\n",
    "# \"-\".join(mylist) will turn a list into a string, with the elements separated by dashes\n",
    "\n",
    "shufflethisword(\"cat\")"
   ]
  },
  {
   "cell_type": "markdown",
   "metadata": {},
   "source": [
    "To shuffle the letters, we can use the random.shuffle function. This function takes in a sequence. While a string may be iterable, it isn't a sequence and can't be passed to the random.shuffle() function. But, we can convert it into a list, shuffle it, then convert it back to a string, like we did above."
   ]
  },
  {
   "cell_type": "markdown",
   "metadata": {},
   "source": [
    "## Creating a function to calculate factorials"
   ]
  },
  {
   "cell_type": "code",
   "execution_count": 63,
   "metadata": {},
   "outputs": [
    {
     "data": {
      "text/plain": [
       "-1"
      ]
     },
     "execution_count": 63,
     "metadata": {},
     "output_type": "execute_result"
    }
   ],
   "source": [
    "def factorial(x):\n",
    "    if type(x) != int:\n",
    "        return -1\n",
    "    # This is a useful input validation, as only integers have a factorial.\n",
    "    # The function returns a -1 when an invalid input is entered.\n",
    "    factorialproduct = 1\n",
    "    for i in range(1,x+1):\n",
    "        # We want to include x, so our range must go to x+1\n",
    "        # We also want to start at 1, so we pass that as the first argument to range\n",
    "        factorialproduct *= i\n",
    "        # this is the same as:\n",
    "        # factorialproduct = factorialproduct * i\n",
    "    return factorialproduct\n",
    "\n",
    "factorial('5')"
   ]
  },
  {
   "cell_type": "markdown",
   "metadata": {},
   "source": [
    "For your homework, you'll need to turn the above factorial function into a recursive function. Take a look at the above example  of how we did that with the sumfrom_n_tozero() function for reference."
   ]
  },
  {
   "cell_type": "code",
   "execution_count": null,
   "metadata": {},
   "outputs": [],
   "source": []
  }
 ],
 "metadata": {
  "kernelspec": {
   "display_name": "Python 3",
   "language": "python",
   "name": "python3"
  },
  "language_info": {
   "codemirror_mode": {
    "name": "ipython",
    "version": 3
   },
   "file_extension": ".py",
   "mimetype": "text/x-python",
   "name": "python",
   "nbconvert_exporter": "python",
   "pygments_lexer": "ipython3",
   "version": "3.6.1"
  }
 },
 "nbformat": 4,
 "nbformat_minor": 2
}
