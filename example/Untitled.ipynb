{
 "cells": [
  {
   "cell_type": "code",
   "execution_count": 1,
   "metadata": {},
   "outputs": [],
   "source": [
    "import pandas as pd\n",
    "import matplotlib\n"
   ]
  },
  {
   "cell_type": "code",
   "execution_count": 2,
   "metadata": {},
   "outputs": [],
   "source": [
    "% matplotlib inline"
   ]
  },
  {
   "cell_type": "code",
   "execution_count": 7,
   "metadata": {},
   "outputs": [
    {
     "name": "stdout",
     "output_type": "stream",
     "text": [
      "done\n"
     ]
    }
   ],
   "source": [
    "df = pd.read_csv('Population.csv')\n",
    "print(\"done\")"
   ]
  },
  {
   "cell_type": "code",
   "execution_count": 5,
   "metadata": {},
   "outputs": [
    {
     "data": {
      "text/html": [
       "<div>\n",
       "<style scoped>\n",
       "    .dataframe tbody tr th:only-of-type {\n",
       "        vertical-align: middle;\n",
       "    }\n",
       "\n",
       "    .dataframe tbody tr th {\n",
       "        vertical-align: top;\n",
       "    }\n",
       "\n",
       "    .dataframe thead th {\n",
       "        text-align: right;\n",
       "    }\n",
       "</style>\n",
       "<table border=\"1\" class=\"dataframe\">\n",
       "  <thead>\n",
       "    <tr style=\"text-align: right;\">\n",
       "      <th></th>\n",
       "      <th>Country</th>\n",
       "      <th>1980</th>\n",
       "      <th>1981</th>\n",
       "      <th>1982</th>\n",
       "      <th>1983</th>\n",
       "      <th>1984</th>\n",
       "      <th>1985</th>\n",
       "      <th>1986</th>\n",
       "      <th>1987</th>\n",
       "      <th>1988</th>\n",
       "      <th>...</th>\n",
       "      <th>2001</th>\n",
       "      <th>2002</th>\n",
       "      <th>2003</th>\n",
       "      <th>2004</th>\n",
       "      <th>2005</th>\n",
       "      <th>2006</th>\n",
       "      <th>2007</th>\n",
       "      <th>2008</th>\n",
       "      <th>2009</th>\n",
       "      <th>2010</th>\n",
       "    </tr>\n",
       "  </thead>\n",
       "  <tbody>\n",
       "    <tr>\n",
       "      <th>0</th>\n",
       "      <td>North America</td>\n",
       "      <td>320.27638</td>\n",
       "      <td>324.44694</td>\n",
       "      <td>328.62014</td>\n",
       "      <td>332.72487</td>\n",
       "      <td>336.72143</td>\n",
       "      <td>340.74811</td>\n",
       "      <td>344.89548</td>\n",
       "      <td>349.07829</td>\n",
       "      <td>353.2939</td>\n",
       "      <td>...</td>\n",
       "      <td>417.83236</td>\n",
       "      <td>422.05268</td>\n",
       "      <td>426.06238</td>\n",
       "      <td>430.26938</td>\n",
       "      <td>434.47232</td>\n",
       "      <td>438.82964</td>\n",
       "      <td>443.3473</td>\n",
       "      <td>447.67394</td>\n",
       "      <td>451.83698</td>\n",
       "      <td>456.59331</td>\n",
       "    </tr>\n",
       "    <tr>\n",
       "      <th>1</th>\n",
       "      <td>Bermuda</td>\n",
       "      <td>0.05473</td>\n",
       "      <td>0.05491</td>\n",
       "      <td>0.05517</td>\n",
       "      <td>0.05551</td>\n",
       "      <td>0.05585</td>\n",
       "      <td>0.05618</td>\n",
       "      <td>0.05651</td>\n",
       "      <td>0.05683</td>\n",
       "      <td>0.05717</td>\n",
       "      <td>...</td>\n",
       "      <td>0.06361</td>\n",
       "      <td>0.06418</td>\n",
       "      <td>0.06476</td>\n",
       "      <td>0.06534</td>\n",
       "      <td>0.06591</td>\n",
       "      <td>0.06644</td>\n",
       "      <td>0.06692</td>\n",
       "      <td>0.06739</td>\n",
       "      <td>0.06784</td>\n",
       "      <td>0.06827</td>\n",
       "    </tr>\n",
       "    <tr>\n",
       "      <th>2</th>\n",
       "      <td>Canada</td>\n",
       "      <td>24.5933</td>\n",
       "      <td>24.9</td>\n",
       "      <td>25.2019</td>\n",
       "      <td>25.4563</td>\n",
       "      <td>25.7018</td>\n",
       "      <td>25.9416</td>\n",
       "      <td>26.2038</td>\n",
       "      <td>26.5497</td>\n",
       "      <td>26.8948</td>\n",
       "      <td>...</td>\n",
       "      <td>31.37674</td>\n",
       "      <td>31.64096</td>\n",
       "      <td>31.88931</td>\n",
       "      <td>32.13476</td>\n",
       "      <td>32.38638</td>\n",
       "      <td>32.65668</td>\n",
       "      <td>32.93596</td>\n",
       "      <td>33.2127</td>\n",
       "      <td>33.48721</td>\n",
       "      <td>33.75974</td>\n",
       "    </tr>\n",
       "    <tr>\n",
       "      <th>3</th>\n",
       "      <td>Greenland</td>\n",
       "      <td>0.05021</td>\n",
       "      <td>0.05103</td>\n",
       "      <td>0.05166</td>\n",
       "      <td>0.05211</td>\n",
       "      <td>0.05263</td>\n",
       "      <td>0.05315</td>\n",
       "      <td>0.05364</td>\n",
       "      <td>0.0541</td>\n",
       "      <td>0.05485</td>\n",
       "      <td>...</td>\n",
       "      <td>0.05713</td>\n",
       "      <td>0.05736</td>\n",
       "      <td>0.05754</td>\n",
       "      <td>0.0577</td>\n",
       "      <td>0.05778</td>\n",
       "      <td>0.05764</td>\n",
       "      <td>0.05753</td>\n",
       "      <td>0.05756</td>\n",
       "      <td>0.0576</td>\n",
       "      <td>0.05764</td>\n",
       "    </tr>\n",
       "    <tr>\n",
       "      <th>4</th>\n",
       "      <td>Mexico</td>\n",
       "      <td>68.34748</td>\n",
       "      <td>69.96926</td>\n",
       "      <td>71.6409</td>\n",
       "      <td>73.36288</td>\n",
       "      <td>75.08014</td>\n",
       "      <td>76.76723</td>\n",
       "      <td>78.44243</td>\n",
       "      <td>80.12249</td>\n",
       "      <td>81.78182</td>\n",
       "      <td>...</td>\n",
       "      <td>101.24696</td>\n",
       "      <td>102.47993</td>\n",
       "      <td>103.71806</td>\n",
       "      <td>104.95959</td>\n",
       "      <td>106.2029</td>\n",
       "      <td>107.44953</td>\n",
       "      <td>108.70089</td>\n",
       "      <td>109.9554</td>\n",
       "      <td>111.21179</td>\n",
       "      <td>112.46886</td>\n",
       "    </tr>\n",
       "  </tbody>\n",
       "</table>\n",
       "<p>5 rows × 32 columns</p>\n",
       "</div>"
      ],
      "text/plain": [
       "         Country       1980       1981       1982       1983       1984  \\\n",
       "0  North America  320.27638  324.44694  328.62014  332.72487  336.72143   \n",
       "1        Bermuda    0.05473    0.05491    0.05517    0.05551    0.05585   \n",
       "2         Canada    24.5933       24.9    25.2019    25.4563    25.7018   \n",
       "3      Greenland    0.05021    0.05103    0.05166    0.05211    0.05263   \n",
       "4         Mexico   68.34748   69.96926    71.6409   73.36288   75.08014   \n",
       "\n",
       "        1985       1986       1987      1988    ...           2001       2002  \\\n",
       "0  340.74811  344.89548  349.07829  353.2939    ...      417.83236  422.05268   \n",
       "1    0.05618    0.05651    0.05683   0.05717    ...        0.06361    0.06418   \n",
       "2    25.9416    26.2038    26.5497   26.8948    ...       31.37674   31.64096   \n",
       "3    0.05315    0.05364     0.0541   0.05485    ...        0.05713    0.05736   \n",
       "4   76.76723   78.44243   80.12249  81.78182    ...      101.24696  102.47993   \n",
       "\n",
       "        2003       2004       2005       2006       2007       2008  \\\n",
       "0  426.06238  430.26938  434.47232  438.82964   443.3473  447.67394   \n",
       "1    0.06476    0.06534    0.06591    0.06644    0.06692    0.06739   \n",
       "2   31.88931   32.13476   32.38638   32.65668   32.93596    33.2127   \n",
       "3    0.05754     0.0577    0.05778    0.05764    0.05753    0.05756   \n",
       "4  103.71806  104.95959   106.2029  107.44953  108.70089   109.9554   \n",
       "\n",
       "        2009       2010  \n",
       "0  451.83698  456.59331  \n",
       "1    0.06784    0.06827  \n",
       "2   33.48721   33.75974  \n",
       "3     0.0576    0.05764  \n",
       "4  111.21179  112.46886  \n",
       "\n",
       "[5 rows x 32 columns]"
      ]
     },
     "execution_count": 5,
     "metadata": {},
     "output_type": "execute_result"
    }
   ],
   "source": [
    "df.head()"
   ]
  },
  {
   "cell_type": "code",
   "execution_count": 8,
   "metadata": {},
   "outputs": [
    {
     "data": {
      "text/plain": [
       "<matplotlib.axes._subplots.AxesSubplot at 0x117c567b8>"
      ]
     },
     "execution_count": 8,
     "metadata": {},
     "output_type": "execute_result"
    },
    {
     "data": {
      "image/png": "[encoded data removed]",
      "text/plain": [
       "<Figure size 432x288 with 1 Axes>"
      ]
     },
     "metadata": {},
     "output_type": "display_data"
    }
   ],
   "source": [
    "df['1980'].head(200).hist(bins=20)"
   ]
  },
  {
   "cell_type": "code",
   "execution_count": null,
   "metadata": {},
   "outputs": [],
   "source": []
  },
  {
   "cell_type": "code",
   "execution_count": null,
   "metadata": {},
   "outputs": [],
   "source": []
  }
 ],
 "metadata": {
  "kernelspec": {
   "display_name": "Python 3",
   "language": "python",
   "name": "python3"
  },
  "language_info": {
   "codemirror_mode": {
    "name": "ipython",
    "version": 3
   },
   "file_extension": ".py",
   "mimetype": "text/x-python",
   "name": "python",
   "nbconvert_exporter": "python",
   "pygments_lexer": "ipython3",
   "version": "3.6.1"
  }
 },
 "nbformat": 4,
 "nbformat_minor": 2
}
